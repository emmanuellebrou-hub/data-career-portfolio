{
 "cells": [
  {
   "cell_type": "code",
   "execution_count": 5,
   "id": "4331309d",
   "metadata": {
    "scrolled": true
   },
   "outputs": [],
   "source": [
    "#pip install yfinance"
   ]
  },
  {
   "cell_type": "code",
   "execution_count": 4,
   "id": "f5f9f624",
   "metadata": {},
   "outputs": [
    {
     "name": "stdout",
     "output_type": "stream",
     "text": [
      "WARNING:tensorflow:From C:\\Users\\emman\\anaconda3\\Lib\\site-packages\\keras\\src\\losses.py:2976: The name tf.losses.sparse_softmax_cross_entropy is deprecated. Please use tf.compat.v1.losses.sparse_softmax_cross_entropy instead.\n",
      "\n"
     ]
    }
   ],
   "source": [
    "import torch\n",
    "import numpy as np\n",
    "import pandas as pd\n",
    "import matplotlib.pyplot as plt\n",
    "import yfinance as yf\n",
    "from sklearn.preprocessing import MinMaxScaler\n",
    "from keras.layers import Dense, Dropout, LSTM\n",
    "from keras.models import Sequential\n",
    "from tensorflow.keras.callbacks import EarlyStopping"
   ]
  },
  {
   "cell_type": "code",
   "execution_count": 6,
   "id": "9dcfdc9b",
   "metadata": {},
   "outputs": [
    {
     "data": {
      "text/html": [
       "<div>\n",
       "<style scoped>\n",
       "    .dataframe tbody tr th:only-of-type {\n",
       "        vertical-align: middle;\n",
       "    }\n",
       "\n",
       "    .dataframe tbody tr th {\n",
       "        vertical-align: top;\n",
       "    }\n",
       "\n",
       "    .dataframe thead th {\n",
       "        text-align: right;\n",
       "    }\n",
       "</style>\n",
       "<table border=\"1\" class=\"dataframe\">\n",
       "  <thead>\n",
       "    <tr style=\"text-align: right;\">\n",
       "      <th></th>\n",
       "      <th>Open</th>\n",
       "      <th>High</th>\n",
       "      <th>Low</th>\n",
       "      <th>Close</th>\n",
       "      <th>Volume</th>\n",
       "      <th>Dividends</th>\n",
       "      <th>Stock Splits</th>\n",
       "    </tr>\n",
       "    <tr>\n",
       "      <th>Date</th>\n",
       "      <th></th>\n",
       "      <th></th>\n",
       "      <th></th>\n",
       "      <th></th>\n",
       "      <th></th>\n",
       "      <th></th>\n",
       "      <th></th>\n",
       "    </tr>\n",
       "  </thead>\n",
       "  <tbody>\n",
       "    <tr>\n",
       "      <th>1986-03-13 00:00:00-05:00</th>\n",
       "      <td>0.054188</td>\n",
       "      <td>0.062156</td>\n",
       "      <td>0.054188</td>\n",
       "      <td>0.059500</td>\n",
       "      <td>1031788800</td>\n",
       "      <td>0.0</td>\n",
       "      <td>0.0</td>\n",
       "    </tr>\n",
       "    <tr>\n",
       "      <th>1986-03-14 00:00:00-05:00</th>\n",
       "      <td>0.059500</td>\n",
       "      <td>0.062688</td>\n",
       "      <td>0.059500</td>\n",
       "      <td>0.061625</td>\n",
       "      <td>308160000</td>\n",
       "      <td>0.0</td>\n",
       "      <td>0.0</td>\n",
       "    </tr>\n",
       "    <tr>\n",
       "      <th>1986-03-17 00:00:00-05:00</th>\n",
       "      <td>0.061625</td>\n",
       "      <td>0.063219</td>\n",
       "      <td>0.061625</td>\n",
       "      <td>0.062688</td>\n",
       "      <td>133171200</td>\n",
       "      <td>0.0</td>\n",
       "      <td>0.0</td>\n",
       "    </tr>\n",
       "    <tr>\n",
       "      <th>1986-03-18 00:00:00-05:00</th>\n",
       "      <td>0.062688</td>\n",
       "      <td>0.063219</td>\n",
       "      <td>0.060562</td>\n",
       "      <td>0.061093</td>\n",
       "      <td>67766400</td>\n",
       "      <td>0.0</td>\n",
       "      <td>0.0</td>\n",
       "    </tr>\n",
       "    <tr>\n",
       "      <th>1986-03-19 00:00:00-05:00</th>\n",
       "      <td>0.061093</td>\n",
       "      <td>0.061625</td>\n",
       "      <td>0.059500</td>\n",
       "      <td>0.060031</td>\n",
       "      <td>47894400</td>\n",
       "      <td>0.0</td>\n",
       "      <td>0.0</td>\n",
       "    </tr>\n",
       "    <tr>\n",
       "      <th>...</th>\n",
       "      <td>...</td>\n",
       "      <td>...</td>\n",
       "      <td>...</td>\n",
       "      <td>...</td>\n",
       "      <td>...</td>\n",
       "      <td>...</td>\n",
       "      <td>...</td>\n",
       "    </tr>\n",
       "    <tr>\n",
       "      <th>2025-08-26 00:00:00-04:00</th>\n",
       "      <td>504.359985</td>\n",
       "      <td>504.980011</td>\n",
       "      <td>498.510010</td>\n",
       "      <td>502.040009</td>\n",
       "      <td>30835700</td>\n",
       "      <td>0.0</td>\n",
       "      <td>0.0</td>\n",
       "    </tr>\n",
       "    <tr>\n",
       "      <th>2025-08-27 00:00:00-04:00</th>\n",
       "      <td>502.000000</td>\n",
       "      <td>507.290009</td>\n",
       "      <td>499.899994</td>\n",
       "      <td>506.739990</td>\n",
       "      <td>17277900</td>\n",
       "      <td>0.0</td>\n",
       "      <td>0.0</td>\n",
       "    </tr>\n",
       "    <tr>\n",
       "      <th>2025-08-28 00:00:00-04:00</th>\n",
       "      <td>507.089996</td>\n",
       "      <td>511.089996</td>\n",
       "      <td>505.500000</td>\n",
       "      <td>509.640015</td>\n",
       "      <td>18015600</td>\n",
       "      <td>0.0</td>\n",
       "      <td>0.0</td>\n",
       "    </tr>\n",
       "    <tr>\n",
       "      <th>2025-08-29 00:00:00-04:00</th>\n",
       "      <td>508.660004</td>\n",
       "      <td>509.600006</td>\n",
       "      <td>504.489990</td>\n",
       "      <td>506.690002</td>\n",
       "      <td>20961600</td>\n",
       "      <td>0.0</td>\n",
       "      <td>0.0</td>\n",
       "    </tr>\n",
       "    <tr>\n",
       "      <th>2025-09-02 00:00:00-04:00</th>\n",
       "      <td>500.470001</td>\n",
       "      <td>506.000000</td>\n",
       "      <td>496.809998</td>\n",
       "      <td>505.119995</td>\n",
       "      <td>18104100</td>\n",
       "      <td>0.0</td>\n",
       "      <td>0.0</td>\n",
       "    </tr>\n",
       "  </tbody>\n",
       "</table>\n",
       "<p>9945 rows × 7 columns</p>\n",
       "</div>"
      ],
      "text/plain": [
       "                                 Open        High         Low       Close  \\\n",
       "Date                                                                        \n",
       "1986-03-13 00:00:00-05:00    0.054188    0.062156    0.054188    0.059500   \n",
       "1986-03-14 00:00:00-05:00    0.059500    0.062688    0.059500    0.061625   \n",
       "1986-03-17 00:00:00-05:00    0.061625    0.063219    0.061625    0.062688   \n",
       "1986-03-18 00:00:00-05:00    0.062688    0.063219    0.060562    0.061093   \n",
       "1986-03-19 00:00:00-05:00    0.061093    0.061625    0.059500    0.060031   \n",
       "...                               ...         ...         ...         ...   \n",
       "2025-08-26 00:00:00-04:00  504.359985  504.980011  498.510010  502.040009   \n",
       "2025-08-27 00:00:00-04:00  502.000000  507.290009  499.899994  506.739990   \n",
       "2025-08-28 00:00:00-04:00  507.089996  511.089996  505.500000  509.640015   \n",
       "2025-08-29 00:00:00-04:00  508.660004  509.600006  504.489990  506.690002   \n",
       "2025-09-02 00:00:00-04:00  500.470001  506.000000  496.809998  505.119995   \n",
       "\n",
       "                               Volume  Dividends  Stock Splits  \n",
       "Date                                                            \n",
       "1986-03-13 00:00:00-05:00  1031788800        0.0           0.0  \n",
       "1986-03-14 00:00:00-05:00   308160000        0.0           0.0  \n",
       "1986-03-17 00:00:00-05:00   133171200        0.0           0.0  \n",
       "1986-03-18 00:00:00-05:00    67766400        0.0           0.0  \n",
       "1986-03-19 00:00:00-05:00    47894400        0.0           0.0  \n",
       "...                               ...        ...           ...  \n",
       "2025-08-26 00:00:00-04:00    30835700        0.0           0.0  \n",
       "2025-08-27 00:00:00-04:00    17277900        0.0           0.0  \n",
       "2025-08-28 00:00:00-04:00    18015600        0.0           0.0  \n",
       "2025-08-29 00:00:00-04:00    20961600        0.0           0.0  \n",
       "2025-09-02 00:00:00-04:00    18104100        0.0           0.0  \n",
       "\n",
       "[9945 rows x 7 columns]"
      ]
     },
     "execution_count": 6,
     "metadata": {},
     "output_type": "execute_result"
    }
   ],
   "source": [
    "#Microsoft\n",
    "\n",
    "stock = \"MSFT\"\n",
    "\n",
    "data = yf.Ticker(stock)\n",
    "data = data.history(period=\"max\")\n",
    "data"
   ]
  },
  {
   "cell_type": "code",
   "execution_count": 7,
   "id": "4009bb81",
   "metadata": {},
   "outputs": [
    {
     "data": {
      "text/plain": [
       "DatetimeIndex(['1986-03-13 00:00:00-05:00', '1986-03-14 00:00:00-05:00',\n",
       "               '1986-03-17 00:00:00-05:00', '1986-03-18 00:00:00-05:00',\n",
       "               '1986-03-19 00:00:00-05:00', '1986-03-20 00:00:00-05:00',\n",
       "               '1986-03-21 00:00:00-05:00', '1986-03-24 00:00:00-05:00',\n",
       "               '1986-03-25 00:00:00-05:00', '1986-03-26 00:00:00-05:00',\n",
       "               ...\n",
       "               '2025-08-19 00:00:00-04:00', '2025-08-20 00:00:00-04:00',\n",
       "               '2025-08-21 00:00:00-04:00', '2025-08-22 00:00:00-04:00',\n",
       "               '2025-08-25 00:00:00-04:00', '2025-08-26 00:00:00-04:00',\n",
       "               '2025-08-27 00:00:00-04:00', '2025-08-28 00:00:00-04:00',\n",
       "               '2025-08-29 00:00:00-04:00', '2025-09-02 00:00:00-04:00'],\n",
       "              dtype='datetime64[ns, America/New_York]', name='Date', length=9945, freq=None)"
      ]
     },
     "execution_count": 7,
     "metadata": {},
     "output_type": "execute_result"
    }
   ],
   "source": [
    "data.index"
   ]
  },
  {
   "cell_type": "code",
   "execution_count": 8,
   "id": "5c534114",
   "metadata": {},
   "outputs": [
    {
     "data": {
      "text/plain": [
       "<Axes: xlabel='Date'>"
      ]
     },
     "execution_count": 8,
     "metadata": {},
     "output_type": "execute_result"
    },
    {
     "data": {
      "image/png": "[encoded data removed]",
      "text/plain": [
       "<Figure size 640x480 with 1 Axes>"
      ]
     },
     "metadata": {},
     "output_type": "display_data"
    }
   ],
   "source": [
    "#plot close market throught the year\n",
    "\n",
    "data.plot.line(y=\"Close\", use_index=True)"
   ]
  },
  {
   "cell_type": "code",
   "execution_count": 9,
   "id": "55604c34",
   "metadata": {},
   "outputs": [],
   "source": [
    "#explain use chatgpt\n",
    "#get ride of useless and null data\n",
    "\n",
    "del data[\"Dividends\"]\n",
    "del data[\"Stock Splits\"]\n",
    "data.dropna(inplace= True)\n",
    "data.index = data.index.date\n",
    "data.index.name = \"Date\""
   ]
  },
  {
   "cell_type": "code",
   "execution_count": 10,
   "id": "10577d13",
   "metadata": {},
   "outputs": [
    {
     "data": {
      "text/html": [
       "<div>\n",
       "<style scoped>\n",
       "    .dataframe tbody tr th:only-of-type {\n",
       "        vertical-align: middle;\n",
       "    }\n",
       "\n",
       "    .dataframe tbody tr th {\n",
       "        vertical-align: top;\n",
       "    }\n",
       "\n",
       "    .dataframe thead th {\n",
       "        text-align: right;\n",
       "    }\n",
       "</style>\n",
       "<table border=\"1\" class=\"dataframe\">\n",
       "  <thead>\n",
       "    <tr style=\"text-align: right;\">\n",
       "      <th></th>\n",
       "      <th>Open</th>\n",
       "      <th>High</th>\n",
       "      <th>Low</th>\n",
       "      <th>Close</th>\n",
       "      <th>Volume</th>\n",
       "    </tr>\n",
       "    <tr>\n",
       "      <th>Date</th>\n",
       "      <th></th>\n",
       "      <th></th>\n",
       "      <th></th>\n",
       "      <th></th>\n",
       "      <th></th>\n",
       "    </tr>\n",
       "  </thead>\n",
       "  <tbody>\n",
       "    <tr>\n",
       "      <th>1986-03-13</th>\n",
       "      <td>0.054188</td>\n",
       "      <td>0.062156</td>\n",
       "      <td>0.054188</td>\n",
       "      <td>0.059500</td>\n",
       "      <td>1031788800</td>\n",
       "    </tr>\n",
       "    <tr>\n",
       "      <th>1986-03-14</th>\n",
       "      <td>0.059500</td>\n",
       "      <td>0.062688</td>\n",
       "      <td>0.059500</td>\n",
       "      <td>0.061625</td>\n",
       "      <td>308160000</td>\n",
       "    </tr>\n",
       "    <tr>\n",
       "      <th>1986-03-17</th>\n",
       "      <td>0.061625</td>\n",
       "      <td>0.063219</td>\n",
       "      <td>0.061625</td>\n",
       "      <td>0.062688</td>\n",
       "      <td>133171200</td>\n",
       "    </tr>\n",
       "    <tr>\n",
       "      <th>1986-03-18</th>\n",
       "      <td>0.062688</td>\n",
       "      <td>0.063219</td>\n",
       "      <td>0.060562</td>\n",
       "      <td>0.061093</td>\n",
       "      <td>67766400</td>\n",
       "    </tr>\n",
       "    <tr>\n",
       "      <th>1986-03-19</th>\n",
       "      <td>0.061093</td>\n",
       "      <td>0.061625</td>\n",
       "      <td>0.059500</td>\n",
       "      <td>0.060031</td>\n",
       "      <td>47894400</td>\n",
       "    </tr>\n",
       "    <tr>\n",
       "      <th>...</th>\n",
       "      <td>...</td>\n",
       "      <td>...</td>\n",
       "      <td>...</td>\n",
       "      <td>...</td>\n",
       "      <td>...</td>\n",
       "    </tr>\n",
       "    <tr>\n",
       "      <th>2025-08-26</th>\n",
       "      <td>504.359985</td>\n",
       "      <td>504.980011</td>\n",
       "      <td>498.510010</td>\n",
       "      <td>502.040009</td>\n",
       "      <td>30835700</td>\n",
       "    </tr>\n",
       "    <tr>\n",
       "      <th>2025-08-27</th>\n",
       "      <td>502.000000</td>\n",
       "      <td>507.290009</td>\n",
       "      <td>499.899994</td>\n",
       "      <td>506.739990</td>\n",
       "      <td>17277900</td>\n",
       "    </tr>\n",
       "    <tr>\n",
       "      <th>2025-08-28</th>\n",
       "      <td>507.089996</td>\n",
       "      <td>511.089996</td>\n",
       "      <td>505.500000</td>\n",
       "      <td>509.640015</td>\n",
       "      <td>18015600</td>\n",
       "    </tr>\n",
       "    <tr>\n",
       "      <th>2025-08-29</th>\n",
       "      <td>508.660004</td>\n",
       "      <td>509.600006</td>\n",
       "      <td>504.489990</td>\n",
       "      <td>506.690002</td>\n",
       "      <td>20961600</td>\n",
       "    </tr>\n",
       "    <tr>\n",
       "      <th>2025-09-02</th>\n",
       "      <td>500.470001</td>\n",
       "      <td>506.000000</td>\n",
       "      <td>496.809998</td>\n",
       "      <td>505.119995</td>\n",
       "      <td>18104100</td>\n",
       "    </tr>\n",
       "  </tbody>\n",
       "</table>\n",
       "<p>9945 rows × 5 columns</p>\n",
       "</div>"
      ],
      "text/plain": [
       "                  Open        High         Low       Close      Volume\n",
       "Date                                                                  \n",
       "1986-03-13    0.054188    0.062156    0.054188    0.059500  1031788800\n",
       "1986-03-14    0.059500    0.062688    0.059500    0.061625   308160000\n",
       "1986-03-17    0.061625    0.063219    0.061625    0.062688   133171200\n",
       "1986-03-18    0.062688    0.063219    0.060562    0.061093    67766400\n",
       "1986-03-19    0.061093    0.061625    0.059500    0.060031    47894400\n",
       "...                ...         ...         ...         ...         ...\n",
       "2025-08-26  504.359985  504.980011  498.510010  502.040009    30835700\n",
       "2025-08-27  502.000000  507.290009  499.899994  506.739990    17277900\n",
       "2025-08-28  507.089996  511.089996  505.500000  509.640015    18015600\n",
       "2025-08-29  508.660004  509.600006  504.489990  506.690002    20961600\n",
       "2025-09-02  500.470001  506.000000  496.809998  505.119995    18104100\n",
       "\n",
       "[9945 rows x 5 columns]"
      ]
     },
     "execution_count": 10,
     "metadata": {},
     "output_type": "execute_result"
    }
   ],
   "source": [
    "data"
   ]
  },
  {
   "cell_type": "code",
   "execution_count": 11,
   "id": "df20d3ee",
   "metadata": {},
   "outputs": [
    {
     "data": {
      "text/html": [
       "<div>\n",
       "<style scoped>\n",
       "    .dataframe tbody tr th:only-of-type {\n",
       "        vertical-align: middle;\n",
       "    }\n",
       "\n",
       "    .dataframe tbody tr th {\n",
       "        vertical-align: top;\n",
       "    }\n",
       "\n",
       "    .dataframe thead th {\n",
       "        text-align: right;\n",
       "    }\n",
       "</style>\n",
       "<table border=\"1\" class=\"dataframe\">\n",
       "  <thead>\n",
       "    <tr style=\"text-align: right;\">\n",
       "      <th></th>\n",
       "      <th>Date</th>\n",
       "      <th>Open</th>\n",
       "      <th>High</th>\n",
       "      <th>Low</th>\n",
       "      <th>Close</th>\n",
       "      <th>Volume</th>\n",
       "    </tr>\n",
       "  </thead>\n",
       "  <tbody>\n",
       "    <tr>\n",
       "      <th>0</th>\n",
       "      <td>1986-03-13</td>\n",
       "      <td>0.054188</td>\n",
       "      <td>0.062156</td>\n",
       "      <td>0.054188</td>\n",
       "      <td>0.059500</td>\n",
       "      <td>1031788800</td>\n",
       "    </tr>\n",
       "    <tr>\n",
       "      <th>1</th>\n",
       "      <td>1986-03-14</td>\n",
       "      <td>0.059500</td>\n",
       "      <td>0.062688</td>\n",
       "      <td>0.059500</td>\n",
       "      <td>0.061625</td>\n",
       "      <td>308160000</td>\n",
       "    </tr>\n",
       "    <tr>\n",
       "      <th>2</th>\n",
       "      <td>1986-03-17</td>\n",
       "      <td>0.061625</td>\n",
       "      <td>0.063219</td>\n",
       "      <td>0.061625</td>\n",
       "      <td>0.062688</td>\n",
       "      <td>133171200</td>\n",
       "    </tr>\n",
       "    <tr>\n",
       "      <th>3</th>\n",
       "      <td>1986-03-18</td>\n",
       "      <td>0.062688</td>\n",
       "      <td>0.063219</td>\n",
       "      <td>0.060562</td>\n",
       "      <td>0.061093</td>\n",
       "      <td>67766400</td>\n",
       "    </tr>\n",
       "    <tr>\n",
       "      <th>4</th>\n",
       "      <td>1986-03-19</td>\n",
       "      <td>0.061093</td>\n",
       "      <td>0.061625</td>\n",
       "      <td>0.059500</td>\n",
       "      <td>0.060031</td>\n",
       "      <td>47894400</td>\n",
       "    </tr>\n",
       "    <tr>\n",
       "      <th>...</th>\n",
       "      <td>...</td>\n",
       "      <td>...</td>\n",
       "      <td>...</td>\n",
       "      <td>...</td>\n",
       "      <td>...</td>\n",
       "      <td>...</td>\n",
       "    </tr>\n",
       "    <tr>\n",
       "      <th>9940</th>\n",
       "      <td>2025-08-26</td>\n",
       "      <td>504.359985</td>\n",
       "      <td>504.980011</td>\n",
       "      <td>498.510010</td>\n",
       "      <td>502.040009</td>\n",
       "      <td>30835700</td>\n",
       "    </tr>\n",
       "    <tr>\n",
       "      <th>9941</th>\n",
       "      <td>2025-08-27</td>\n",
       "      <td>502.000000</td>\n",
       "      <td>507.290009</td>\n",
       "      <td>499.899994</td>\n",
       "      <td>506.739990</td>\n",
       "      <td>17277900</td>\n",
       "    </tr>\n",
       "    <tr>\n",
       "      <th>9942</th>\n",
       "      <td>2025-08-28</td>\n",
       "      <td>507.089996</td>\n",
       "      <td>511.089996</td>\n",
       "      <td>505.500000</td>\n",
       "      <td>509.640015</td>\n",
       "      <td>18015600</td>\n",
       "    </tr>\n",
       "    <tr>\n",
       "      <th>9943</th>\n",
       "      <td>2025-08-29</td>\n",
       "      <td>508.660004</td>\n",
       "      <td>509.600006</td>\n",
       "      <td>504.489990</td>\n",
       "      <td>506.690002</td>\n",
       "      <td>20961600</td>\n",
       "    </tr>\n",
       "    <tr>\n",
       "      <th>9944</th>\n",
       "      <td>2025-09-02</td>\n",
       "      <td>500.470001</td>\n",
       "      <td>506.000000</td>\n",
       "      <td>496.809998</td>\n",
       "      <td>505.119995</td>\n",
       "      <td>18104100</td>\n",
       "    </tr>\n",
       "  </tbody>\n",
       "</table>\n",
       "<p>9945 rows × 6 columns</p>\n",
       "</div>"
      ],
      "text/plain": [
       "            Date        Open        High         Low       Close      Volume\n",
       "0     1986-03-13    0.054188    0.062156    0.054188    0.059500  1031788800\n",
       "1     1986-03-14    0.059500    0.062688    0.059500    0.061625   308160000\n",
       "2     1986-03-17    0.061625    0.063219    0.061625    0.062688   133171200\n",
       "3     1986-03-18    0.062688    0.063219    0.060562    0.061093    67766400\n",
       "4     1986-03-19    0.061093    0.061625    0.059500    0.060031    47894400\n",
       "...          ...         ...         ...         ...         ...         ...\n",
       "9940  2025-08-26  504.359985  504.980011  498.510010  502.040009    30835700\n",
       "9941  2025-08-27  502.000000  507.290009  499.899994  506.739990    17277900\n",
       "9942  2025-08-28  507.089996  511.089996  505.500000  509.640015    18015600\n",
       "9943  2025-08-29  508.660004  509.600006  504.489990  506.690002    20961600\n",
       "9944  2025-09-02  500.470001  506.000000  496.809998  505.119995    18104100\n",
       "\n",
       "[9945 rows x 6 columns]"
      ]
     },
     "execution_count": 11,
     "metadata": {},
     "output_type": "execute_result"
    }
   ],
   "source": [
    "data.reset_index(inplace=True)\n",
    "data"
   ]
  },
  {
   "cell_type": "code",
   "execution_count": 12,
   "id": "210a8f81",
   "metadata": {},
   "outputs": [],
   "source": [
    "#mouving average\n",
    "\n",
    "ma_100_days= data.Close.rolling(100).mean()\n",
    "ma_200_days= data.Close.rolling(200).mean()"
   ]
  },
  {
   "cell_type": "code",
   "execution_count": 13,
   "id": "a087f7c3",
   "metadata": {},
   "outputs": [
    {
     "data": {
      "image/png": "[encoded data removed]",
      "text/plain": [
       "<Figure size 800x600 with 1 Axes>"
      ]
     },
     "metadata": {},
     "output_type": "display_data"
    }
   ],
   "source": [
    "plt.figure(figsize=(8,6))\n",
    "plt.plot(ma_100_days, 'r')\n",
    "plt.plot(ma_200_days, 'b')\n",
    "plt.plot(data.Close, 'g')\n",
    "plt.show()"
   ]
  },
  {
   "cell_type": "code",
   "execution_count": 14,
   "id": "23e2f321",
   "metadata": {},
   "outputs": [],
   "source": [
    "data_train = pd.DataFrame(data.Close[0: int(len(data)*0.80)])\n",
    "data_test = pd.DataFrame(data.Close[int(len(data)*0.80): len(data)])"
   ]
  },
  {
   "cell_type": "code",
   "execution_count": 15,
   "id": "77800f41",
   "metadata": {},
   "outputs": [
    {
     "name": "stdout",
     "output_type": "stream",
     "text": [
      "Train data :  7956  rows | Test data:  1989  rows\n"
     ]
    }
   ],
   "source": [
    "print (\"Train data : \", data_train.shape[0], \" rows | Test data: \", data_test.shape[0], \" rows\")"
   ]
  },
  {
   "cell_type": "code",
   "execution_count": 16,
   "id": "e24364df",
   "metadata": {},
   "outputs": [],
   "source": [
    "#\n",
    "\n",
    "scaler = MinMaxScaler(feature_range=(0,1))"
   ]
  },
  {
   "cell_type": "code",
   "execution_count": 17,
   "id": "b1b95098",
   "metadata": {},
   "outputs": [],
   "source": [
    "#\n",
    "\n",
    "data_train_scale = scaler.fit_transform(data_train)"
   ]
  },
  {
   "cell_type": "code",
   "execution_count": 18,
   "id": "8c8ea19c",
   "metadata": {},
   "outputs": [],
   "source": [
    "#\n",
    "\n",
    "x_train = []\n",
    "y_train  = []\n",
    "\n",
    "for i in range(100, data_train_scale.shape[0]):\n",
    "    x_train .append(data_train_scale[i-100:i])\n",
    "    y_train .append(data_train_scale[i,0])\n",
    "x_train , y_train  = np.array(x_train ), np.array(y_train )"
   ]
  },
  {
   "cell_type": "code",
   "execution_count": 19,
   "id": "61b8cda1",
   "metadata": {},
   "outputs": [],
   "source": [
    "x_train, y_train = np.array(x_train), np.array(y_train)"
   ]
  },
  {
   "cell_type": "code",
   "execution_count": 20,
   "id": "3a67e743",
   "metadata": {},
   "outputs": [
    {
     "name": "stdout",
     "output_type": "stream",
     "text": [
      "WARNING:tensorflow:From C:\\Users\\emman\\anaconda3\\Lib\\site-packages\\keras\\src\\backend.py:873: The name tf.get_default_graph is deprecated. Please use tf.compat.v1.get_default_graph instead.\n",
      "\n"
     ]
    }
   ],
   "source": [
    "#Model definition\n",
    "\n",
    "model = Sequential()\n",
    "model.add(LSTM(units = 50, activation = 'relu', return_sequences = True,\n",
    "               input_shape = ((x_train.shape[1],1))))\n",
    "model.add(Dropout(0.2))\n",
    "\n",
    "model.add(LSTM(units = 60, activation='relu', return_sequences = True))\n",
    "model.add(Dropout(0.3))\n",
    "\n",
    "model.add(LSTM(units = 80, activation = 'relu', return_sequences = True))\n",
    "model.add(Dropout(0.4))\n",
    "\n",
    "model.add(LSTM(units = 120, activation = 'relu'))\n",
    "model.add(Dropout(0.5))\n",
    "\n",
    "model.add(Dense(units =1))"
   ]
  },
  {
   "cell_type": "code",
   "execution_count": 21,
   "id": "084429f1",
   "metadata": {},
   "outputs": [
    {
     "name": "stdout",
     "output_type": "stream",
     "text": [
      "WARNING:tensorflow:From C:\\Users\\emman\\anaconda3\\Lib\\site-packages\\keras\\src\\optimizers\\__init__.py:309: The name tf.train.Optimizer is deprecated. Please use tf.compat.v1.train.Optimizer instead.\n",
      "\n"
     ]
    }
   ],
   "source": [
    "#Compile model\n",
    "\n",
    "model.compile(optimizer = 'adam', loss = 'mean_squared_error')"
   ]
  },
  {
   "cell_type": "code",
   "execution_count": 22,
   "id": "dcc29595",
   "metadata": {},
   "outputs": [
    {
     "name": "stdout",
     "output_type": "stream",
     "text": [
      "Epoch 1/35\n",
      "WARNING:tensorflow:From C:\\Users\\emman\\anaconda3\\Lib\\site-packages\\keras\\src\\utils\\tf_utils.py:492: The name tf.ragged.RaggedTensorValue is deprecated. Please use tf.compat.v1.ragged.RaggedTensorValue instead.\n",
      "\n",
      "246/246 [==============================] - 61s 231ms/step - loss: 0.0077\n",
      "Epoch 2/35\n",
      "246/246 [==============================] - 49s 199ms/step - loss: 0.0027\n",
      "Epoch 3/35\n",
      "246/246 [==============================] - 54s 221ms/step - loss: 0.0023\n",
      "Epoch 4/35\n",
      "246/246 [==============================] - 43s 175ms/step - loss: 0.0020\n",
      "Epoch 5/35\n",
      "246/246 [==============================] - 50s 204ms/step - loss: 0.0018\n",
      "Epoch 6/35\n",
      "246/246 [==============================] - 52s 213ms/step - loss: 0.0017\n",
      "Epoch 7/35\n",
      "246/246 [==============================] - 52s 212ms/step - loss: 0.0016\n",
      "Epoch 8/35\n",
      "246/246 [==============================] - 54s 221ms/step - loss: 0.0017\n",
      "Epoch 9/35\n",
      "246/246 [==============================] - 52s 213ms/step - loss: 0.0016\n",
      "Epoch 10/35\n",
      "246/246 [==============================] - 56s 229ms/step - loss: 0.0014\n",
      "Epoch 11/35\n",
      "246/246 [==============================] - 50s 202ms/step - loss: 0.0014\n",
      "Epoch 12/35\n",
      "246/246 [==============================] - 71s 290ms/step - loss: 0.0015\n",
      "Epoch 13/35\n",
      "246/246 [==============================] - 77s 311ms/step - loss: 0.0012\n",
      "Epoch 14/35\n",
      "246/246 [==============================] - 62s 251ms/step - loss: 0.0013\n",
      "Epoch 15/35\n",
      "246/246 [==============================] - 78s 316ms/step - loss: 0.0013\n",
      "Epoch 16/35\n",
      "246/246 [==============================] - 68s 279ms/step - loss: 0.0012\n",
      "Epoch 17/35\n",
      "246/246 [==============================] - 64s 260ms/step - loss: 0.0013\n",
      "Epoch 18/35\n",
      "246/246 [==============================] - 62s 252ms/step - loss: 0.0013\n",
      "Epoch 19/35\n",
      "246/246 [==============================] - 64s 259ms/step - loss: 0.0013\n",
      "Epoch 20/35\n",
      "246/246 [==============================] - 65s 266ms/step - loss: 0.0012\n",
      "Epoch 21/35\n",
      "246/246 [==============================] - 64s 259ms/step - loss: 0.0014\n",
      "Epoch 22/35\n",
      "246/246 [==============================] - 61s 247ms/step - loss: 0.0012\n",
      "Epoch 23/35\n",
      "246/246 [==============================] - 75s 306ms/step - loss: 0.0012\n",
      "Epoch 24/35\n",
      "246/246 [==============================] - 64s 259ms/step - loss: 0.0012\n",
      "Epoch 25/35\n",
      "246/246 [==============================] - 67s 272ms/step - loss: 0.0012\n",
      "Epoch 26/35\n",
      "246/246 [==============================] - 72s 292ms/step - loss: 0.0014\n",
      "Epoch 27/35\n",
      "246/246 [==============================] - 62s 252ms/step - loss: 0.0012\n",
      "Epoch 28/35\n",
      "246/246 [==============================] - 65s 265ms/step - loss: 0.0012\n",
      "Epoch 29/35\n",
      "246/246 [==============================] - 64s 262ms/step - loss: 0.0012\n",
      "Epoch 30/35\n",
      "246/246 [==============================] - 63s 258ms/step - loss: 0.0012\n",
      "Epoch 31/35\n",
      "246/246 [==============================] - 81s 328ms/step - loss: 0.0013\n",
      "Epoch 32/35\n",
      "246/246 [==============================] - 67s 272ms/step - loss: 0.0012\n",
      "Epoch 33/35\n",
      "246/246 [==============================] - 71s 289ms/step - loss: 0.0012\n",
      "Epoch 34/35\n",
      "246/246 [==============================] - 63s 257ms/step - loss: 0.0012\n",
      "Epoch 35/35\n",
      "246/246 [==============================] - 63s 256ms/step - loss: 0.0012\n"
     ]
    },
    {
     "data": {
      "text/plain": [
       "<keras.src.callbacks.History at 0x18645cd2f90>"
      ]
     },
     "execution_count": 22,
     "metadata": {},
     "output_type": "execute_result"
    }
   ],
   "source": [
    "#Model fiting\n",
    "\n",
    "model.fit(x_train,y_train, epochs = 35, batch_size =32, verbose =1)"
   ]
  },
  {
   "cell_type": "code",
   "execution_count": 23,
   "id": "e0fb90c4",
   "metadata": {},
   "outputs": [
    {
     "name": "stdout",
     "output_type": "stream",
     "text": [
      "Model: \"sequential\"\n",
      "_________________________________________________________________\n",
      " Layer (type)                Output Shape              Param #   \n",
      "=================================================================\n",
      " lstm (LSTM)                 (None, 100, 50)           10400     \n",
      "                                                                 \n",
      " dropout (Dropout)           (None, 100, 50)           0         \n",
      "                                                                 \n",
      " lstm_1 (LSTM)               (None, 100, 60)           26640     \n",
      "                                                                 \n",
      " dropout_1 (Dropout)         (None, 100, 60)           0         \n",
      "                                                                 \n",
      " lstm_2 (LSTM)               (None, 100, 80)           45120     \n",
      "                                                                 \n",
      " dropout_2 (Dropout)         (None, 100, 80)           0         \n",
      "                                                                 \n",
      " lstm_3 (LSTM)               (None, 120)               96480     \n",
      "                                                                 \n",
      " dropout_3 (Dropout)         (None, 120)               0         \n",
      "                                                                 \n",
      " dense (Dense)               (None, 1)                 121       \n",
      "                                                                 \n",
      "=================================================================\n",
      "Total params: 178761 (698.29 KB)\n",
      "Trainable params: 178761 (698.29 KB)\n",
      "Non-trainable params: 0 (0.00 Byte)\n",
      "_________________________________________________________________\n"
     ]
    }
   ],
   "source": [
    "model.summary()"
   ]
  },
  {
   "cell_type": "code",
   "execution_count": 24,
   "id": "7820f559",
   "metadata": {},
   "outputs": [],
   "source": [
    "pas_100_days = data_train.tail(100)"
   ]
  },
  {
   "cell_type": "code",
   "execution_count": 25,
   "id": "0a6cb62f",
   "metadata": {},
   "outputs": [],
   "source": [
    "data_test = pd.concat([pas_100_days, data_test], ignore_index=True)"
   ]
  },
  {
   "cell_type": "code",
   "execution_count": 26,
   "id": "96a31a8b",
   "metadata": {},
   "outputs": [],
   "source": [
    "data_test_scale  =  scaler.fit_transform(data_test)"
   ]
  },
  {
   "cell_type": "code",
   "execution_count": 27,
   "id": "e7567987",
   "metadata": {},
   "outputs": [],
   "source": [
    "x_test = []\n",
    "y_test = []\n",
    "\n",
    "for i in range(100, data_test_scale.shape[0]):\n",
    "    x_test.append(data_test_scale[i-100:i])\n",
    "    y_test.append(data_test_scale[i,0])\n",
    "x_test, y_test = np.array(x_test), np.array(y_test)"
   ]
  },
  {
   "cell_type": "code",
   "execution_count": 28,
   "id": "f7a636f7",
   "metadata": {},
   "outputs": [
    {
     "name": "stdout",
     "output_type": "stream",
     "text": [
      "63/63 [==============================] - 9s 99ms/step\n"
     ]
    }
   ],
   "source": [
    "y_predict = model.predict(x_test)"
   ]
  },
  {
   "cell_type": "code",
   "execution_count": 29,
   "id": "75383fbc",
   "metadata": {},
   "outputs": [],
   "source": [
    "scale =1/scaler.scale_\n",
    "y_predict = y_predict*scale\n",
    "y_test = y_test *scale"
   ]
  },
  {
   "cell_type": "code",
   "execution_count": 31,
   "id": "ad6864b9",
   "metadata": {},
   "outputs": [
    {
     "data": {
      "image/png": "[encoded data removed]",
      "text/plain": [
       "<Figure size 1000x800 with 1 Axes>"
      ]
     },
     "metadata": {},
     "output_type": "display_data"
    }
   ],
   "source": [
    "plt.figure(figsize=(10,8))\n",
    "plt.plot(y_predict, 'r', label = 'Predicted Price')\n",
    "plt.plot(y_test, 'g', label = 'Original Price')\n",
    "plt.xlabel('Time')\n",
    "plt.ylabel('Price')\n",
    "plt.legend()\n",
    "plt.show()"
   ]
  },
  {
   "cell_type": "code",
   "execution_count": 33,
   "id": "777fb15c",
   "metadata": {},
   "outputs": [],
   "source": [
    "path=\"predict-stock-market.pth\"\n",
    "torch.save(model, path)"
   ]
  },
  {
   "cell_type": "code",
   "execution_count": 35,
   "id": "93d0ba91",
   "metadata": {},
   "outputs": [],
   "source": [
    "model.save(\"StockPredictionModel.keras\")"
   ]
  },
  {
   "cell_type": "code",
   "execution_count": null,
   "id": "e08bdd6b",
   "metadata": {},
   "outputs": [],
   "source": []
  }
 ],
 "metadata": {
  "kernelspec": {
   "display_name": "Python 3 (ipykernel)",
   "language": "python",
   "name": "python3"
  },
  "language_info": {
   "codemirror_mode": {
    "name": "ipython",
    "version": 3
   },
   "file_extension": ".py",
   "mimetype": "text/x-python",
   "name": "python",
   "nbconvert_exporter": "python",
   "pygments_lexer": "ipython3",
   "version": "3.11.4"
  }
 },
 "nbformat": 4,
 "nbformat_minor": 5
}
